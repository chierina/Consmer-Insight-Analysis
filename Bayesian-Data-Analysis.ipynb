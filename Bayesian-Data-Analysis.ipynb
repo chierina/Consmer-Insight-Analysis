{
 "cells": [
  {
   "cell_type": "code",
   "execution_count": 32,
   "metadata": {},
   "outputs": [
    {
     "data": {
      "text/plain": [
       "<matplotlib.axes._subplots.AxesSubplot at 0x1212249d0>"
      ]
     },
     "execution_count": 32,
     "metadata": {},
     "output_type": "execute_result"
    },
    {
     "data": {
      "image/png": "[encoded data removed]",
      "text/plain": [
       "<Figure size 432x288 with 1 Axes>"
      ]
     },
     "metadata": {
      "needs_background": "light"
     },
     "output_type": "display_data"
    }
   ],
   "source": [
    "# Import libraries\n",
    "import pandas as pd\n",
    "import numpy as np\n",
    "\n",
    "# Number of random trials from the sample, we can set any numbers\n",
    "n_draws = 10000\n",
    "\n",
    "# Defining and drawing from the prior distribution \n",
    "prior_rate = pd.Series(np.random.uniform(0, 1, size = n_draws))\n",
    "\n",
    "# See the distribution\n",
    "prior_rate.hist()"
   ]
  },
  {
   "cell_type": "code",
   "execution_count": 33,
   "metadata": {},
   "outputs": [],
   "source": [
    "# Defining the generative model\n",
    "# P(number of events | probability of success in sign up)\n",
    "def generative_model(prob):\n",
    "    return(np.random.binomial(100, prob))"
   ]
  },
  {
   "cell_type": "code",
   "execution_count": 34,
   "metadata": {},
   "outputs": [],
   "source": [
    "# Simulate data using the parameters from the prior and the generative model\n",
    "subscribers = list()\n",
    "for p in prior_rate:\n",
    "    subscribers.append(generative_model(p))\n",
    "\n",
    "observed_data = 38"
   ]
  },
  {
   "cell_type": "code",
   "execution_count": 35,
   "metadata": {},
   "outputs": [
    {
     "data": {
      "text/plain": [
       "<matplotlib.axes._subplots.AxesSubplot at 0x12131b890>"
      ]
     },
     "execution_count": 35,
     "metadata": {},
     "output_type": "execute_result"
    },
    {
     "data": {
      "image/png": "[encoded data removed]",
      "text/plain": [
       "<Figure size 432x288 with 1 Axes>"
      ]
     },
     "metadata": {
      "needs_background": "light"
     },
     "output_type": "display_data"
    }
   ],
   "source": [
    "# Filter off all draws that do not match the data.\n",
    "post_rate = prior_rate[list(map(lambda x: x == observed_data, subscribers))]\n",
    "\n",
    "post_rate.hist() "
   ]
  },
  {
   "cell_type": "code",
   "execution_count": 36,
   "metadata": {},
   "outputs": [
    {
     "name": "stdout",
     "output_type": "stream",
     "text": [
      "Number of draws left: 571, Posterior median: 0.380, Posterior quantile interval: 0.183-0.605\n"
     ]
    }
   ],
   "source": [
    "# Summarize the posterior, where a common summary is to take the mean or the median posterior, and perhaps a 95% quantile interval.\n",
    "\n",
    "print('Number of draws left: %d, Posterior median: %.3f, Posterior quantile interval: %.3f-%.3f' % \n",
    "      (len(posterior), posterior.median(), posterior.quantile(.025), posterior.quantile(.975)))"
   ]
  },
  {
   "cell_type": "code",
   "execution_count": null,
   "metadata": {},
   "outputs": [],
   "source": [
    "# out of 10,000 trials, 571 fall into the distribution"
   ]
  }
 ],
 "metadata": {
  "kernelspec": {
   "display_name": "Python 3",
   "language": "python",
   "name": "python3"
  },
  "language_info": {
   "codemirror_mode": {
    "name": "ipython",
    "version": 3
   },
   "file_extension": ".py",
   "mimetype": "text/x-python",
   "name": "python",
   "nbconvert_exporter": "python",
   "pygments_lexer": "ipython3",
   "version": "3.7.4"
  }
 },
 "nbformat": 4,
 "nbformat_minor": 2
}
